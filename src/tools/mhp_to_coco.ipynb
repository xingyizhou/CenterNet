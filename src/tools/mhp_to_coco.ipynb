{
 "cells": [
  {
   "cell_type": "markdown",
   "metadata": {
    "ExecuteTime": {
     "end_time": "2019-11-17T09:34:17.740510Z",
     "start_time": "2019-11-17T09:34:17.353522Z"
    }
   },
   "source": [
    "## CONVERT MHP DATA TO COCO FORMAT"
   ]
  },
  {
   "cell_type": "code",
   "execution_count": null,
   "metadata": {},
   "outputs": [],
   "source": [
    "import os\n",
    "import numpy as np\n",
    "import json\n",
    "import cv2\n",
    "import matplotlib.pyplot as plt\n",
    "from concurrent.futures import ProcessPoolExecutor"
   ]
  },
  {
   "cell_type": "code",
   "execution_count": 130,
   "metadata": {
    "ExecuteTime": {
     "end_time": "2019-11-17T17:57:09.920149Z",
     "start_time": "2019-11-17T17:57:09.916366Z"
    },
    "code_folding": []
   },
   "outputs": [],
   "source": [
    "DATASET_PATH =\"LV-MHP-v2/\""
   ]
  },
  {
   "cell_type": "code",
   "execution_count": 131,
   "metadata": {
    "ExecuteTime": {
     "end_time": "2019-11-17T17:58:32.993906Z",
     "start_time": "2019-11-17T17:58:32.990051Z"
    }
   },
   "outputs": [],
   "source": [
    "data_type = \"val\"\n",
    "\n",
    "IMAGES_PATH = DATASET_PATH + \"{}/images/\".format(data_type)\n",
    "ANNOTAION_MASK = DATASET_PATH + \"{}/parsing_annos/\".format(data_type)\n",
    "CATEGORY = DATASET_PATH + \"mhp.names\"\n"
   ]
  },
  {
   "cell_type": "code",
   "execution_count": null,
   "metadata": {},
   "outputs": [],
   "source": []
  },
  {
   "cell_type": "markdown",
   "metadata": {},
   "source": [
    "## Parse MHP Images\n",
    "\n",
    "read all the images in mhp data set and convert to coco format"
   ]
  },
  {
   "cell_type": "code",
   "execution_count": 19,
   "metadata": {
    "ExecuteTime": {
     "end_time": "2019-11-17T09:46:41.480647Z",
     "start_time": "2019-11-17T09:46:41.464226Z"
    }
   },
   "outputs": [],
   "source": [
    "images =[os.path.join(IMAGES_PATH,x) for x in  os.listdir(IMAGES_PATH)]"
   ]
  },
  {
   "cell_type": "code",
   "execution_count": 20,
   "metadata": {
    "ExecuteTime": {
     "end_time": "2019-11-17T09:46:50.486959Z",
     "start_time": "2019-11-17T09:46:50.482464Z"
    }
   },
   "outputs": [
    {
     "data": {
      "text/plain": [
       "5000"
      ]
     },
     "execution_count": 20,
     "metadata": {},
     "output_type": "execute_result"
    }
   ],
   "source": [
    "len(images)"
   ]
  },
  {
   "cell_type": "code",
   "execution_count": 16,
   "metadata": {
    "ExecuteTime": {
     "end_time": "2019-11-17T09:43:52.334823Z",
     "start_time": "2019-11-17T09:43:52.330356Z"
    }
   },
   "outputs": [],
   "source": [
    "def read_images(im_path):\n",
    "    im = cv2.imread(im_path)\n",
    "    h,w = im.shape[:2]\n",
    "    name = os.path.basename(im_path)\n",
    "    id = int(name.split(\".\")[0])\n",
    "\n",
    "    im_dict = dict(),\n",
    "    im_dict[\"file_name\"] = name\n",
    "    im_dict[\"height\"] = h\n",
    "    im_dict[\"width\"] = w\n",
    "    im_dict[\"id\"] = id\n",
    "    return im_dict"
   ]
  },
  {
   "cell_type": "code",
   "execution_count": 37,
   "metadata": {},
   "outputs": [
    {
     "name": "stdout",
     "output_type": "stream",
     "text": [
      "1000\n",
      "2000\n",
      "3000\n",
      "4000\n",
      "5000\n"
     ]
    }
   ],
   "source": [
    "coco_images = []\n",
    "with ProcessPoolExecutor(6) as executor:\n",
    "    for im_dict in executor.map(read_images,images):\n",
    "        coco_images.append(im_dict)\n",
    "        if(len(coco_images)%1000)==0:\n",
    "            print(len(coco_images))\n",
    "    "
   ]
  },
  {
   "cell_type": "markdown",
   "metadata": {},
   "source": [
    "## Parse categories\n",
    "\n"
   ]
  },
  {
   "cell_type": "code",
   "execution_count": 38,
   "metadata": {},
   "outputs": [],
   "source": [
    "with open(CATEGORY,\"r\") as f:\n",
    "    data = f.read().strip().split(\"\\n\")"
   ]
  },
  {
   "cell_type": "code",
   "execution_count": 32,
   "metadata": {
    "ExecuteTime": {
     "end_time": "2019-11-17T09:54:10.933597Z",
     "start_time": "2019-11-17T09:54:10.930389Z"
    }
   },
   "outputs": [],
   "source": [
    "#data = [\"human\",\"face\"] "
   ]
  },
  {
   "cell_type": "code",
   "execution_count": 33,
   "metadata": {
    "ExecuteTime": {
     "end_time": "2019-11-17T09:54:12.724013Z",
     "start_time": "2019-11-17T09:54:12.718886Z"
    }
   },
   "outputs": [],
   "source": [
    "coco_categories = []\n",
    "for i,cat in enumerate(data):\n",
    "    cat_dict = {}\n",
    "    cat_dict['name'] = cat\n",
    "    cat_dict['id'] = i+1\n",
    "    cat_dict['supercategory'] = None\n",
    "    \n",
    "    coco_categories.append(cat_dict)"
   ]
  },
  {
   "cell_type": "markdown",
   "metadata": {},
   "source": [
    "## ANNOTATION MASK"
   ]
  },
  {
   "cell_type": "code",
   "execution_count": 93,
   "metadata": {
    "ExecuteTime": {
     "end_time": "2019-11-17T11:00:16.767758Z",
     "start_time": "2019-11-17T11:00:16.394130Z"
    }
   },
   "outputs": [],
   "source": [
    "ann_mask = [os.path.join(ANNOTAION_MASK,x) for x in os.listdir(ANNOTAION_MASK)]\n",
    "ann_mask = sorted(ann_mask,key=lambda x : int(os.path.basename(x).split(\".\")[0].split(\"_\")[0]))"
   ]
  },
  {
   "cell_type": "code",
   "execution_count": 94,
   "metadata": {
    "ExecuteTime": {
     "end_time": "2019-11-17T11:00:16.896843Z",
     "start_time": "2019-11-17T11:00:16.891868Z"
    }
   },
   "outputs": [
    {
     "data": {
      "text/plain": [
       "13260"
      ]
     },
     "execution_count": 94,
     "metadata": {},
     "output_type": "execute_result"
    }
   ],
   "source": [
    "len(ann_mask)"
   ]
  },
  {
   "cell_type": "code",
   "execution_count": 132,
   "metadata": {
    "ExecuteTime": {
     "end_time": "2019-11-17T18:00:02.095937Z",
     "start_time": "2019-11-17T18:00:02.080895Z"
    }
   },
   "outputs": [],
   "source": [
    "## IF you want to convert mhp to just detect human face and body call this function in create_mask_to_ann\n",
    "\n",
    "def mask_human_nd_face(mask):\n",
    "    mask_new = np.zeros(mask.shape)\n",
    "    \n",
    "    mask_new[mask!=0] = 1\n",
    "    mask_new[(mask==3) | (mask==4)] = 2\n",
    "    return mask_new\n"
   ]
  },
  {
   "cell_type": "code",
   "execution_count": 96,
   "metadata": {
    "ExecuteTime": {
     "end_time": "2019-11-17T11:00:21.148524Z",
     "start_time": "2019-11-17T11:00:21.139158Z"
    }
   },
   "outputs": [],
   "source": [
    "def create_mask_to_ann(mask_path):\n",
    "    mask  = cv2.imread(mask_path)\n",
    "    \n",
    "    # Uncomment below to convert in face and body\n",
    "    #mask = mask_human_nd_face(mask)\n",
    "    \n",
    "    mask_ = mask.copy()\n",
    "    cat = np.unique(mask)\n",
    "    list_anns = []\n",
    "    \n",
    "    image_id = int(os.path.basename(mask_path).split(\".\")[0].split(\"_\")[0])\n",
    "    id = int(image_id)*1000\n",
    "    \n",
    "    for c in cat:\n",
    "        # to include face in body\n",
    "#         if c==1:\n",
    "#             mask_ = (mask!=0).astype(\"uint8\")\n",
    "#         else:\n",
    "#             mask_ = mask\n",
    "        \n",
    "        if c!=0:\n",
    "            id+=1\n",
    "            mask_face = (mask_==c).astype(\"uint8\")\n",
    "            mask_face = mask_face.any(axis=-1).astype(\"uint8\")\n",
    "            kernel = np.ones((5,5),np.uint8)\n",
    "            erosion = cv2.erode(mask_face,kernel,iterations = 1)\n",
    "            \n",
    "            x1,y1,w,h = cv2.boundingRect(erosion)\n",
    "            #im2 = cv2.rectangle(im2,(x1, y1),(x1+w, y1+h),(0,0,255),5)\n",
    "            x1,y1,w,h = x1-5,y1-5,w+10,h+10\n",
    "            \n",
    "            \n",
    "            category_id = int(c)\n",
    "            \n",
    "            ann_dict = dict()\n",
    "            ann_dict[\"id\"] = id\n",
    "            ann_dict[\"bbox\"] = [x1,y1,w,h]\n",
    "            ann_dict[\"image_id\"] = image_id\n",
    "            ann_dict[\"segmentation\"] = []\n",
    "            ann_dict[\"ignore\"]= 0\n",
    "            ann_dict[\"area\"] = w*h\n",
    "            ann_dict[\"iscrowd\"] = 0\n",
    "            ann_dict[\"category_id\"] = category_id\n",
    "            list_anns.append(ann_dict)\n",
    "            \n",
    "    return list_anns\n",
    "        "
   ]
  },
  {
   "cell_type": "code",
   "execution_count": 100,
   "metadata": {
    "ExecuteTime": {
     "end_time": "2019-11-17T11:09:54.406319Z",
     "start_time": "2019-11-17T11:01:44.891127Z"
    },
    "scrolled": true
   },
   "outputs": [
    {
     "name": "stdout",
     "output_type": "stream",
     "text": [
      "1000\n",
      "2000\n",
      "3000\n",
      "4000\n",
      "5000\n",
      "6000\n",
      "7000\n",
      "8000\n",
      "9000\n",
      "10000\n",
      "11000\n",
      "12000\n",
      "13000\n"
     ]
    }
   ],
   "source": [
    "coco_annotations = []\n",
    "c= 0\n",
    "with ProcessPoolExecutor(6) as executors:\n",
    "    for ann_list in executors.map(create_mask_to_ann,ann_mask):\n",
    "        coco_annotations.extend(ann_list)\n",
    "        c+=1\n",
    "        if c%1000==0:\n",
    "            print(c)"
   ]
  },
  {
   "cell_type": "code",
   "execution_count": 101,
   "metadata": {
    "ExecuteTime": {
     "end_time": "2019-11-17T11:15:51.759308Z",
     "start_time": "2019-11-17T11:15:51.754756Z"
    }
   },
   "outputs": [
    {
     "data": {
      "text/plain": [
       "26472"
      ]
     },
     "execution_count": 101,
     "metadata": {},
     "output_type": "execute_result"
    }
   ],
   "source": [
    "len(coco_annotations)"
   ]
  },
  {
   "cell_type": "markdown",
   "metadata": {},
   "source": [
    "### COCO "
   ]
  },
  {
   "cell_type": "code",
   "execution_count": 50,
   "metadata": {},
   "outputs": [],
   "source": [
    "mhp_coco = {\"type\": \"instances\"}\n"
   ]
  },
  {
   "cell_type": "code",
   "execution_count": 51,
   "metadata": {},
   "outputs": [],
   "source": [
    "mhp_coco[\"images\"] = coco_images\n",
    "mhp_coco[\"categories\"] = coco_categories\n",
    "mhp_coco[\"annotations\"] = coco_annotations\n"
   ]
  },
  {
   "cell_type": "code",
   "execution_count": 126,
   "metadata": {
    "ExecuteTime": {
     "end_time": "2019-11-17T11:19:24.807684Z",
     "start_time": "2019-11-17T11:19:24.560539Z"
    }
   },
   "outputs": [],
   "source": [
    "with open(\"instances_{}2017.json\".format(data_type),\"w\") as f:\n",
    "    f.write(json.dumps(val))"
   ]
  },
  {
   "cell_type": "markdown",
   "metadata": {},
   "source": [
    "##  data sanity"
   ]
  },
  {
   "cell_type": "code",
   "execution_count": null,
   "metadata": {},
   "outputs": [],
   "source": [
    "# random image id in the set it might be in val or train try other if not found in perticular set\n",
    "\n",
    "image_id = 6964"
   ]
  },
  {
   "cell_type": "code",
   "execution_count": 123,
   "metadata": {
    "ExecuteTime": {
     "end_time": "2019-11-17T11:18:36.761712Z",
     "start_time": "2019-11-17T11:18:36.737709Z"
    }
   },
   "outputs": [
    {
     "name": "stdout",
     "output_type": "stream",
     "text": [
      "{'file_name': '6964.jpg', 'height': 414, 'width': 414, 'id': 6964}\n"
     ]
    }
   ],
   "source": [
    "t_ann = []\n",
    "anns = mhp_coco[\"annotations\"]\n",
    "for ann in anns:\n",
    "    #print(ann)\n",
    "    if ann[\"image_id\"] == image_id:\n",
    "        t_ann.append(ann)\n",
    "\n",
    "for im in mhp_coco[\"images\"]:\n",
    "    if im[\"id\"] ==image_id:\n",
    "        print(im)"
   ]
  },
  {
   "cell_type": "code",
   "execution_count": 124,
   "metadata": {
    "ExecuteTime": {
     "end_time": "2019-11-17T11:18:49.477396Z",
     "start_time": "2019-11-17T11:18:39.423488Z"
    }
   },
   "outputs": [
    {
     "name": "stdout",
     "output_type": "stream",
     "text": [
      "{'id': 6964001, 'bbox': [45, 39, 111, 365], 'image_id': 6964, 'segmentation': [], 'ignore': 0, 'area': 40515, 'iscrowd': 0, 'category_id': 1}\n",
      "{'id': 6964002, 'bbox': [106, 39, 50, 63], 'image_id': 6964, 'segmentation': [], 'ignore': 0, 'area': 3150, 'iscrowd': 0, 'category_id': 2}\n",
      "{'id': 6964001, 'bbox': [81, 20, 148, 382], 'image_id': 6964, 'segmentation': [], 'ignore': 0, 'area': 56536, 'iscrowd': 0, 'category_id': 1}\n",
      "{'id': 6964002, 'bbox': [142, 20, 45, 62], 'image_id': 6964, 'segmentation': [], 'ignore': 0, 'area': 2790, 'iscrowd': 0, 'category_id': 2}\n"
     ]
    }
   ],
   "source": [
    "for ann in t_ann:\n",
    "    print(ann)\n",
    "    im = cv2.imread(IMAGES_PATH+str(ann[\"image_id\"])+\".jpg\")\n",
    "    x1,y1,x2,y2 = ann[\"bbox\"]\n",
    "    im = cv2.rectangle(im,(x1, y1),(x2+x1, y1+y2),(0,0,255),2)\n",
    "    cv2.imshow(\"\",im)\n",
    "    cv2.waitKey(0)\n",
    "    cv2.destroyAllWindows()"
   ]
  }
 ],
 "metadata": {
  "kernelspec": {
   "display_name": "Python 3",
   "language": "python",
   "name": "python3"
  },
  "language_info": {
   "codemirror_mode": {
    "name": "ipython",
    "version": 3
   },
   "file_extension": ".py",
   "mimetype": "text/x-python",
   "name": "python",
   "nbconvert_exporter": "python",
   "pygments_lexer": "ipython3",
   "version": "3.6.8"
  },
  "toc": {
   "base_numbering": 1,
   "nav_menu": {},
   "number_sections": true,
   "sideBar": true,
   "skip_h1_title": false,
   "title_cell": "Table of Contents",
   "title_sidebar": "Contents",
   "toc_cell": false,
   "toc_position": {},
   "toc_section_display": true,
   "toc_window_display": false
  }
 },
 "nbformat": 4,
 "nbformat_minor": 4
}
